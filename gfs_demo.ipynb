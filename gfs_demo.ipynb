{
 "cells": [
  {
   "cell_type": "markdown",
   "metadata": {},
   "source": [
    "## Hello, Joel!\n",
    "\n",
    "I just wanted to create a quick little demo of a very, _very_ basic web scraper I made for GFS data.  I have not worked with GFS data in the past, so I have had to make some assumptions on the kind of functionality you might be looking for.  But all webscrapers work roughly the same with varying degress of complexity.  The good news is that the NOAA website that hosts the GFS data is easily scraped.\n",
    "\n",
    "And once I started looking at the GFS data, I can completely understand why there might be need of such a webscraper!  The `.grb2` file format does not have a lot of modern tools for dealing with it.  I haven't spent any time understanding the different raster bands or a lot about the file format.  Instead, I wanted to just provide ~1 hours worth of work to pull data in quickly and provide a quick image.  I am sure the file names make more sense to you who has worked with this data more, but here is what I have so far...\n",
    "\n",
    "### What this script does\n",
    "\n",
    "I am not sure exactly which product you want to use, so I have assumed GFS4.  From there, I have created something that will download the complete `.grb2` file based on date.  I note that the format of the files is `gfs_4_yyyymmdd_xxxx_yyy.grb2`.  The date is given by `yyyymmdd` and the time of measurement (in Zulu) is `xxxx`.  I am not entirely certain what `yyy` is, but I left it as a selectable parameter in the file downloading, noting that it increases by 3's from 0 to 384.  \n",
    "\n",
    "So the user has to input the date that they are interested in as well as the collection time and \"band\" (the `yyy` above) and this script will download the appropriate `.grb2` file (which takes a couple of minutes based on file size) and create a quick image of whichever Raster Band is selected on the slider (I noted from some of the files I looked at that this appeared to go up to about 588).\n",
    "\n",
    "### Some notes about this script\n",
    "\n",
    "1. It is _far_ from optimized!  As it is, every time you click that button, the file is (re)downloaded and imaged. \n",
    "2. It is not at all what I would consider \"production\" code.  The packages that were used below were assembled rather hodge podge.  If I were to provide you with something that you actually wanted to use, we would have to set up your computer to hot have to worry about the sausage-making that went into making this code work on my computer.  This can easily be done through proper containerization, but in the roughly hour that I spent making this work I didn't spend time doing that.\n",
    "3. The data isn't on any map.  There are several ways to do this in Python, but the documented ones with `.grb2` files are all deprecated and require a great deal of life support at present.  Suffice it to say, you are looking at the complete globe and I know you would rather focus on targetted regions.  That could be done with a bit more coding.\n",
    "4. This really is not interactive.  While there are dropdowns that you can use, you cannot presently interact with the data in any meaningful fashion. However, knowing a bit more about what types of interactions you would be looking for would allow me to tailor an experience to that.\n",
    "\n",
    "### Where this could go in the future\n",
    "\n",
    "I am not going to claim that machine learning can predict the weather.  But there is a lot of data here and ML could even help just weed through the chaff a bit, bringing your attention to the meteorological features of interest or correlations to snowfall...or even just help identify outliers in the data here.  There is so much that could be done!"
   ]
  },
  {
   "cell_type": "code",
   "execution_count": 1,
   "metadata": {},
   "outputs": [],
   "source": [
    "%matplotlib inline\n",
    "\n",
    "import urllib.request\n",
    "from datetime import datetime\n",
    "import pandas as pd\n",
    "import numpy as np\n",
    "import matplotlib.pyplot as plt\n",
    "from osgeo import gdal\n",
    "\n",
    "import ipywidgets as widgets\n",
    "from IPython.display import display\n",
    "from ipywidgets import interact_manual"
   ]
  },
  {
   "cell_type": "markdown",
   "metadata": {},
   "source": [
    "This bit here is the meat of the code that handles all interactions.  Note that I have limited the \"band\" entry to just a few values, but know that there are many more.  This is just for demonstration purposes.  The code is not the important part.  What you want is the drop downs and sliders below it."
   ]
  },
  {
   "cell_type": "code",
   "execution_count": 12,
   "metadata": {},
   "outputs": [
    {
     "data": {
      "application/vnd.jupyter.widget-view+json": {
       "model_id": "99d51b912fa74417898f069a4b928323",
       "version_major": 2,
       "version_minor": 0
      },
      "text/plain": [
       "interactive(children=(DatePicker(value=None, description='Date: '), Dropdown(description='Time of data (Zulu):…"
      ]
     },
     "metadata": {},
     "output_type": "display_data"
    },
    {
     "data": {
      "text/plain": [
       "<function __main__.get_grib(start_date, collect_time, band, raster_band)>"
      ]
     },
     "execution_count": 12,
     "metadata": {},
     "output_type": "execute_result"
    }
   ],
   "source": [
    "def get_grib(start_date, collect_time, band, raster_band):\n",
    "    date_str = start_date.strftime(\"%Y%m%d\")\n",
    "    year_month = start_date.strftime(\"%Y%m\")\n",
    "    file = 'gfs_4_' + date_str + '_' + collect_time + '_' + band + '.grb2'\n",
    "    site = 'https://nomads.ncdc.noaa.gov/data/gfs4/' + year_month + '/' + date_str + '/' + file\n",
    "    print('Getting grib...')\n",
    "    urllib.request.urlretrieve(site, file)\n",
    "    print('Got grib!')\n",
    "    grib = gdal.Open(file)\n",
    "    band = grib.GetRasterBand(raster_band)\n",
    "    data = band.ReadAsArray()\n",
    "    plt.imshow(data, cmap='jet')\n",
    "    #return site\n",
    "    \n",
    "interact_manual(get_grib,\n",
    "        start_date = widgets.DatePicker(description = 'Date: '),\n",
    "        collect_time = widgets.Dropdown(options = ['0000', '0600', '1200', '1800'], description='Time of data (Zulu): '),\n",
    "        band = widgets.Dropdown(options = ['000', '003', '006', '009', '012', '015'], description='Band: '),\n",
    "        raster_band = widgets.IntSlider(min=1, max=588, description='Raster Band: '))"
   ]
  },
  {
   "cell_type": "code",
   "execution_count": null,
   "metadata": {},
   "outputs": [],
   "source": []
  },
  {
   "cell_type": "code",
   "execution_count": null,
   "metadata": {},
   "outputs": [],
   "source": []
  }
 ],
 "metadata": {
  "kernelspec": {
   "display_name": "Python 3",
   "language": "python",
   "name": "python3"
  },
  "language_info": {
   "codemirror_mode": {
    "name": "ipython",
    "version": 3
   },
   "file_extension": ".py",
   "mimetype": "text/x-python",
   "name": "python",
   "nbconvert_exporter": "python",
   "pygments_lexer": "ipython3",
   "version": "3.7.1"
  }
 },
 "nbformat": 4,
 "nbformat_minor": 2
}
